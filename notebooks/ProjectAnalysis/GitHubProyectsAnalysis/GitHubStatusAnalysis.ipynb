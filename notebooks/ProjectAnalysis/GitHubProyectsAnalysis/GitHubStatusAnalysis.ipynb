{
 "cells": [
  {
   "cell_type": "markdown",
   "metadata": {},
   "source": [
    "# Step 3.1: GitHub Status Analysis"
   ]
  },
  {
   "cell_type": "code",
   "execution_count": 1,
   "metadata": {},
   "outputs": [],
   "source": [
    "import os\n",
    "from os import listdir\n",
    "from os.path import isfile, join\n",
    "from collections import Counter\n",
    "import pandas as pd\n",
    "import json"
   ]
  },
  {
   "cell_type": "code",
   "execution_count": 2,
   "metadata": {
    "scrolled": false
   },
   "outputs": [
    {
     "data": {
      "text/html": [
       "<div>\n",
       "<style scoped>\n",
       "    .dataframe tbody tr th:only-of-type {\n",
       "        vertical-align: middle;\n",
       "    }\n",
       "\n",
       "    .dataframe tbody tr th {\n",
       "        vertical-align: top;\n",
       "    }\n",
       "\n",
       "    .dataframe thead th {\n",
       "        text-align: right;\n",
       "    }\n",
       "</style>\n",
       "<table border=\"1\" class=\"dataframe\">\n",
       "  <thead>\n",
       "    <tr style=\"text-align: right;\">\n",
       "      <th></th>\n",
       "      <th>Project</th>\n",
       "      <th>Buildable</th>\n",
       "      <th>Success</th>\n",
       "      <th>Fail</th>\n",
       "      <th>No</th>\n",
       "      <th>TotalCommits</th>\n",
       "      <th>% SUCCESS</th>\n",
       "    </tr>\n",
       "  </thead>\n",
       "  <tbody>\n",
       "    <tr>\n",
       "      <th>0</th>\n",
       "      <td>Apktool</td>\n",
       "      <td>1637</td>\n",
       "      <td>918</td>\n",
       "      <td>929</td>\n",
       "      <td>0</td>\n",
       "      <td>1847</td>\n",
       "      <td>56.08</td>\n",
       "    </tr>\n",
       "    <tr>\n",
       "      <th>1</th>\n",
       "      <td>Bukkit</td>\n",
       "      <td>1431</td>\n",
       "      <td>1404</td>\n",
       "      <td>105</td>\n",
       "      <td>0</td>\n",
       "      <td>1509</td>\n",
       "      <td>98.11</td>\n",
       "    </tr>\n",
       "    <tr>\n",
       "      <th>2</th>\n",
       "      <td>Hystrix</td>\n",
       "      <td>2108</td>\n",
       "      <td>988</td>\n",
       "      <td>1121</td>\n",
       "      <td>0</td>\n",
       "      <td>2109</td>\n",
       "      <td>46.87</td>\n",
       "    </tr>\n",
       "    <tr>\n",
       "      <th>3</th>\n",
       "      <td>Jest</td>\n",
       "      <td>1152</td>\n",
       "      <td>1084</td>\n",
       "      <td>69</td>\n",
       "      <td>0</td>\n",
       "      <td>1153</td>\n",
       "      <td>94.10</td>\n",
       "    </tr>\n",
       "    <tr>\n",
       "      <th>4</th>\n",
       "      <td>Mekanism</td>\n",
       "      <td>5530</td>\n",
       "      <td>178</td>\n",
       "      <td>8177</td>\n",
       "      <td>0</td>\n",
       "      <td>8355</td>\n",
       "      <td>3.22</td>\n",
       "    </tr>\n",
       "    <tr>\n",
       "      <th>...</th>\n",
       "      <td>...</td>\n",
       "      <td>...</td>\n",
       "      <td>...</td>\n",
       "      <td>...</td>\n",
       "      <td>...</td>\n",
       "      <td>...</td>\n",
       "      <td>...</td>\n",
       "    </tr>\n",
       "    <tr>\n",
       "      <th>75</th>\n",
       "      <td>swagger-core</td>\n",
       "      <td>3982</td>\n",
       "      <td>2721</td>\n",
       "      <td>1262</td>\n",
       "      <td>0</td>\n",
       "      <td>3983</td>\n",
       "      <td>68.33</td>\n",
       "    </tr>\n",
       "    <tr>\n",
       "      <th>76</th>\n",
       "      <td>thymeleaf</td>\n",
       "      <td>1686</td>\n",
       "      <td>1404</td>\n",
       "      <td>283</td>\n",
       "      <td>0</td>\n",
       "      <td>1687</td>\n",
       "      <td>83.27</td>\n",
       "    </tr>\n",
       "    <tr>\n",
       "      <th>77</th>\n",
       "      <td>webmagic</td>\n",
       "      <td>1132</td>\n",
       "      <td>999</td>\n",
       "      <td>133</td>\n",
       "      <td>0</td>\n",
       "      <td>1132</td>\n",
       "      <td>88.25</td>\n",
       "    </tr>\n",
       "    <tr>\n",
       "      <th>78</th>\n",
       "      <td>wiremock</td>\n",
       "      <td>1780</td>\n",
       "      <td>306</td>\n",
       "      <td>1933</td>\n",
       "      <td>0</td>\n",
       "      <td>2239</td>\n",
       "      <td>17.19</td>\n",
       "    </tr>\n",
       "    <tr>\n",
       "      <th>79</th>\n",
       "      <td>zxing</td>\n",
       "      <td>3584</td>\n",
       "      <td>938</td>\n",
       "      <td>2671</td>\n",
       "      <td>0</td>\n",
       "      <td>3609</td>\n",
       "      <td>26.17</td>\n",
       "    </tr>\n",
       "  </tbody>\n",
       "</table>\n",
       "<p>80 rows × 7 columns</p>\n",
       "</div>"
      ],
      "text/plain": [
       "         Project  Buildable  Success  Fail  No  TotalCommits  % SUCCESS\n",
       "0        Apktool       1637      918   929   0          1847      56.08\n",
       "1         Bukkit       1431     1404   105   0          1509      98.11\n",
       "2        Hystrix       2108      988  1121   0          2109      46.87\n",
       "3           Jest       1152     1084    69   0          1153      94.10\n",
       "4       Mekanism       5530      178  8177   0          8355       3.22\n",
       "..           ...        ...      ...   ...  ..           ...        ...\n",
       "75  swagger-core       3982     2721  1262   0          3983      68.33\n",
       "76     thymeleaf       1686     1404   283   0          1687      83.27\n",
       "77      webmagic       1132      999   133   0          1132      88.25\n",
       "78      wiremock       1780      306  1933   0          2239      17.19\n",
       "79         zxing       3584      938  2671   0          3609      26.17\n",
       "\n",
       "[80 rows x 7 columns]"
      ]
     },
     "execution_count": 2,
     "metadata": {},
     "output_type": "execute_result"
    }
   ],
   "source": [
    "df = pd.read_csv('GitHubStatusCheckerResults.csv')\n",
    "df"
   ]
  },
  {
   "cell_type": "code",
   "execution_count": 3,
   "metadata": {
    "scrolled": false
   },
   "outputs": [
    {
     "data": {
      "text/html": [
       "<div>\n",
       "<style scoped>\n",
       "    .dataframe tbody tr th:only-of-type {\n",
       "        vertical-align: middle;\n",
       "    }\n",
       "\n",
       "    .dataframe tbody tr th {\n",
       "        vertical-align: top;\n",
       "    }\n",
       "\n",
       "    .dataframe thead th {\n",
       "        text-align: right;\n",
       "    }\n",
       "</style>\n",
       "<table border=\"1\" class=\"dataframe\">\n",
       "  <thead>\n",
       "    <tr style=\"text-align: right;\">\n",
       "      <th></th>\n",
       "      <th>count</th>\n",
       "      <th>mean</th>\n",
       "      <th>std</th>\n",
       "      <th>min</th>\n",
       "      <th>25%</th>\n",
       "      <th>50%</th>\n",
       "      <th>75%</th>\n",
       "      <th>max</th>\n",
       "    </tr>\n",
       "  </thead>\n",
       "  <tbody>\n",
       "    <tr>\n",
       "      <th>% SUCCESS</th>\n",
       "      <td>80.0</td>\n",
       "      <td>41.669375</td>\n",
       "      <td>33.17802</td>\n",
       "      <td>0.0</td>\n",
       "      <td>10.5625</td>\n",
       "      <td>36.25</td>\n",
       "      <td>70.625</td>\n",
       "      <td>100.0</td>\n",
       "    </tr>\n",
       "  </tbody>\n",
       "</table>\n",
       "</div>"
      ],
      "text/plain": [
       "           count       mean       std  min      25%    50%     75%    max\n",
       "% SUCCESS   80.0  41.669375  33.17802  0.0  10.5625  36.25  70.625  100.0"
      ]
     },
     "execution_count": 3,
     "metadata": {},
     "output_type": "execute_result"
    }
   ],
   "source": [
    "df[['% SUCCESS']].describe().T"
   ]
  },
  {
   "cell_type": "code",
   "execution_count": 4,
   "metadata": {},
   "outputs": [
    {
     "data": {
      "text/html": [
       "<div>\n",
       "<style scoped>\n",
       "    .dataframe tbody tr th:only-of-type {\n",
       "        vertical-align: middle;\n",
       "    }\n",
       "\n",
       "    .dataframe tbody tr th {\n",
       "        vertical-align: top;\n",
       "    }\n",
       "\n",
       "    .dataframe thead th {\n",
       "        text-align: right;\n",
       "    }\n",
       "</style>\n",
       "<table border=\"1\" class=\"dataframe\">\n",
       "  <thead>\n",
       "    <tr style=\"text-align: right;\">\n",
       "      <th></th>\n",
       "      <th>count</th>\n",
       "      <th>mean</th>\n",
       "      <th>std</th>\n",
       "      <th>min</th>\n",
       "      <th>25%</th>\n",
       "      <th>50%</th>\n",
       "      <th>75%</th>\n",
       "      <th>max</th>\n",
       "    </tr>\n",
       "  </thead>\n",
       "  <tbody>\n",
       "    <tr>\n",
       "      <th>TotalCommits</th>\n",
       "      <td>80.0</td>\n",
       "      <td>3760.9125</td>\n",
       "      <td>2404.921711</td>\n",
       "      <td>1132.0</td>\n",
       "      <td>1974.5</td>\n",
       "      <td>2980.0</td>\n",
       "      <td>4847.0</td>\n",
       "      <td>10594.0</td>\n",
       "    </tr>\n",
       "  </tbody>\n",
       "</table>\n",
       "</div>"
      ],
      "text/plain": [
       "              count       mean          std     min     25%     50%     75%  \\\n",
       "TotalCommits   80.0  3760.9125  2404.921711  1132.0  1974.5  2980.0  4847.0   \n",
       "\n",
       "                  max  \n",
       "TotalCommits  10594.0  "
      ]
     },
     "execution_count": 4,
     "metadata": {},
     "output_type": "execute_result"
    }
   ],
   "source": [
    "df[['TotalCommits']].describe().T"
   ]
  },
  {
   "cell_type": "code",
   "execution_count": 36,
   "metadata": {},
   "outputs": [
    {
     "data": {
      "text/plain": [
       "Buildable       281487\n",
       "Success          98488\n",
       "Fail            202385\n",
       "TotalCommits    300873\n",
       "dtype: int64"
      ]
     },
     "execution_count": 36,
     "metadata": {},
     "output_type": "execute_result"
    }
   ],
   "source": [
    "# Sum of each field\n",
    "df[[\"Buildable\",\"Success\",\"Fail\",\"TotalCommits\"]].sum()"
   ]
  },
  {
   "cell_type": "code",
   "execution_count": 37,
   "metadata": {},
   "outputs": [
    {
     "data": {
      "text/plain": [
       "Success         1231.100000\n",
       "Fail            2529.812500\n",
       "TotalCommits    3760.912500\n",
       "% SUCCESS         41.669375\n",
       "dtype: float64"
      ]
     },
     "execution_count": 37,
     "metadata": {},
     "output_type": "execute_result"
    }
   ],
   "source": [
    "# Average\n",
    "df[[\"Success\",\"Fail\",\"TotalCommits\",\"% SUCCESS\"]].mean()"
   ]
  },
  {
   "cell_type": "code",
   "execution_count": 35,
   "metadata": {},
   "outputs": [],
   "source": [
    "def getStats(df, name):\n",
    "    aux_df_summary = df[['% SUCCESS']].describe().T\n",
    "    aux_df_summary = aux_df_summary.rename(index={'% SUCCESS':name})\n",
    "    aux_df_summary = aux_df_summary.rename(columns={\n",
    "        '25%': '1st Qu.', \n",
    "        '50%': 'Median',\n",
    "        '75%': '3rd Qu.',\n",
    "        'mean': 'Mean', \n",
    "        'max': 'Max', \n",
    "        'min': 'Min', \n",
    "        'std': 'SD',\n",
    "    })\n",
    "    aux_df_summary = aux_df_summary[['Min', '1st Qu.', 'Median', 'Mean', '3rd Qu.', 'Max', 'SD']]\n",
    "    aux_df_summary['with build conf.'] = df['Buildable'].sum()\n",
    "    aux_df_summary['Build success'] = df['Success'].sum()\n",
    "    aux_df_summary['Fraction built'] = (df['Success'].sum() / df['Buildable'].sum())*100\n",
    "    return aux_df_summary"
   ]
  },
  {
   "cell_type": "code",
   "execution_count": 69,
   "metadata": {},
   "outputs": [],
   "source": [
    "def createSummary(df, q1, q3):\n",
    "    # Short proyects (< Q1)\n",
    "    short_df = df[ df['TotalCommits']< q1 ]\n",
    "    short_df_summary = getStats(short_df, 'Short history')\n",
    "    # Medium proyects (> Q1 commits & < Q3)\n",
    "    medium_df = df.query('TotalCommits >= %d and TotalCommits < %d'%(q1,q3))\n",
    "    medium_df_summary = getStats(medium_df, 'Medium history')\n",
    "    # Large proyects (> Q3)\n",
    "    large_df = df[ df['TotalCommits'] >= q3 ]\n",
    "    large_df_summary = getStats(large_df, 'Long history')\n",
    "    # All\n",
    "    all_df_summary = getStats(df, 'All')\n",
    "    print(\"Q1 %d\"%q1)\n",
    "    print(\"Q3 %d\"%q3)\n",
    "    print(\"Short projects: %d\"%len(short_df))\n",
    "    print(\"Medium projects: %d\"%len(medium_df))\n",
    "    print(\"Large projects: %d\"%len(large_df))\n",
    "    return pd.concat([short_df_summary,medium_df_summary,large_df_summary, all_df_summary]).round(2)"
   ]
  },
  {
   "cell_type": "markdown",
   "metadata": {},
   "source": [
    "###  Reproduction Summary"
   ]
  },
  {
   "cell_type": "code",
   "execution_count": 70,
   "metadata": {},
   "outputs": [
    {
     "name": "stdout",
     "output_type": "stream",
     "text": [
      "Q1 1974\n",
      "Q3 4847\n",
      "Short projects: 20\n",
      "Medium projects: 40\n",
      "Large projects: 20\n"
     ]
    },
    {
     "data": {
      "text/html": [
       "<div>\n",
       "<style scoped>\n",
       "    .dataframe tbody tr th:only-of-type {\n",
       "        vertical-align: middle;\n",
       "    }\n",
       "\n",
       "    .dataframe tbody tr th {\n",
       "        vertical-align: top;\n",
       "    }\n",
       "\n",
       "    .dataframe thead th {\n",
       "        text-align: right;\n",
       "    }\n",
       "</style>\n",
       "<table border=\"1\" class=\"dataframe\">\n",
       "  <thead>\n",
       "    <tr style=\"text-align: right;\">\n",
       "      <th></th>\n",
       "      <th>Min</th>\n",
       "      <th>1st Qu.</th>\n",
       "      <th>Median</th>\n",
       "      <th>Mean</th>\n",
       "      <th>3rd Qu.</th>\n",
       "      <th>Max</th>\n",
       "      <th>SD</th>\n",
       "      <th>with build conf.</th>\n",
       "      <th>Build success</th>\n",
       "      <th>Fraction built</th>\n",
       "    </tr>\n",
       "  </thead>\n",
       "  <tbody>\n",
       "    <tr>\n",
       "      <th>Short history</th>\n",
       "      <td>0.0</td>\n",
       "      <td>37.43</td>\n",
       "      <td>55.42</td>\n",
       "      <td>58.22</td>\n",
       "      <td>82.27</td>\n",
       "      <td>99.38</td>\n",
       "      <td>28.13</td>\n",
       "      <td>28312</td>\n",
       "      <td>15948</td>\n",
       "      <td>56.33</td>\n",
       "    </tr>\n",
       "    <tr>\n",
       "      <th>Medium history</th>\n",
       "      <td>0.0</td>\n",
       "      <td>10.56</td>\n",
       "      <td>34.94</td>\n",
       "      <td>40.35</td>\n",
       "      <td>68.60</td>\n",
       "      <td>100.00</td>\n",
       "      <td>33.34</td>\n",
       "      <td>114716</td>\n",
       "      <td>44688</td>\n",
       "      <td>38.96</td>\n",
       "    </tr>\n",
       "    <tr>\n",
       "      <th>Long history</th>\n",
       "      <td>0.0</td>\n",
       "      <td>4.27</td>\n",
       "      <td>12.80</td>\n",
       "      <td>27.76</td>\n",
       "      <td>48.04</td>\n",
       "      <td>93.52</td>\n",
       "      <td>31.76</td>\n",
       "      <td>138459</td>\n",
       "      <td>37852</td>\n",
       "      <td>27.34</td>\n",
       "    </tr>\n",
       "    <tr>\n",
       "      <th>All</th>\n",
       "      <td>0.0</td>\n",
       "      <td>10.56</td>\n",
       "      <td>36.25</td>\n",
       "      <td>41.67</td>\n",
       "      <td>70.62</td>\n",
       "      <td>100.00</td>\n",
       "      <td>33.18</td>\n",
       "      <td>281487</td>\n",
       "      <td>98488</td>\n",
       "      <td>34.99</td>\n",
       "    </tr>\n",
       "  </tbody>\n",
       "</table>\n",
       "</div>"
      ],
      "text/plain": [
       "                Min  1st Qu.  Median   Mean  3rd Qu.     Max     SD  \\\n",
       "Short history   0.0    37.43   55.42  58.22    82.27   99.38  28.13   \n",
       "Medium history  0.0    10.56   34.94  40.35    68.60  100.00  33.34   \n",
       "Long history    0.0     4.27   12.80  27.76    48.04   93.52  31.76   \n",
       "All             0.0    10.56   36.25  41.67    70.62  100.00  33.18   \n",
       "\n",
       "                with build conf.  Build success  Fraction built  \n",
       "Short history              28312          15948           56.33  \n",
       "Medium history            114716          44688           38.96  \n",
       "Long history              138459          37852           27.34  \n",
       "All                       281487          98488           34.99  "
      ]
     },
     "execution_count": 70,
     "metadata": {},
     "output_type": "execute_result"
    }
   ],
   "source": [
    "q1 = df['TotalCommits'].quantile(0.25)\n",
    "q3 = df['TotalCommits'].quantile(0.75)\n",
    "createSummary(df, q1, q3)"
   ]
  },
  {
   "cell_type": "markdown",
   "metadata": {},
   "source": [
    "###  Reproduction Summary (with replication quartiles)"
   ]
  },
  {
   "cell_type": "code",
   "execution_count": 66,
   "metadata": {},
   "outputs": [
    {
     "name": "stdout",
     "output_type": "stream",
     "text": [
      "Q1 234\n",
      "Q3 1898\n",
      "Short projects: 0\n",
      "Medium projects: 18\n",
      "Large projects: 62\n"
     ]
    },
    {
     "name": "stderr",
     "output_type": "stream",
     "text": [
      "<ipython-input-35-263aea3c605f>:16: RuntimeWarning: invalid value encountered in long_scalars\n",
      "  aux_df_summary['Fraction built'] = (df['Success'].sum() / df['Buildable'].sum())*100\n"
     ]
    },
    {
     "data": {
      "text/html": [
       "<div>\n",
       "<style scoped>\n",
       "    .dataframe tbody tr th:only-of-type {\n",
       "        vertical-align: middle;\n",
       "    }\n",
       "\n",
       "    .dataframe tbody tr th {\n",
       "        vertical-align: top;\n",
       "    }\n",
       "\n",
       "    .dataframe thead th {\n",
       "        text-align: right;\n",
       "    }\n",
       "</style>\n",
       "<table border=\"1\" class=\"dataframe\">\n",
       "  <thead>\n",
       "    <tr style=\"text-align: right;\">\n",
       "      <th></th>\n",
       "      <th>Min</th>\n",
       "      <th>1st Qu.</th>\n",
       "      <th>Median</th>\n",
       "      <th>Mean</th>\n",
       "      <th>3rd Qu.</th>\n",
       "      <th>Max</th>\n",
       "      <th>SD</th>\n",
       "      <th>with build conf.</th>\n",
       "      <th>Build success</th>\n",
       "      <th>Fraction built</th>\n",
       "    </tr>\n",
       "  </thead>\n",
       "  <tbody>\n",
       "    <tr>\n",
       "      <th>Short history</th>\n",
       "      <td>NaN</td>\n",
       "      <td>NaN</td>\n",
       "      <td>NaN</td>\n",
       "      <td>NaN</td>\n",
       "      <td>NaN</td>\n",
       "      <td>NaN</td>\n",
       "      <td>NaN</td>\n",
       "      <td>0</td>\n",
       "      <td>0</td>\n",
       "      <td>NaN</td>\n",
       "    </tr>\n",
       "    <tr>\n",
       "      <th>Medium history</th>\n",
       "      <td>0.0</td>\n",
       "      <td>40.36</td>\n",
       "      <td>55.42</td>\n",
       "      <td>59.17</td>\n",
       "      <td>82.94</td>\n",
       "      <td>99.38</td>\n",
       "      <td>28.03</td>\n",
       "      <td>24841</td>\n",
       "      <td>14322</td>\n",
       "      <td>57.65</td>\n",
       "    </tr>\n",
       "    <tr>\n",
       "      <th>Long history</th>\n",
       "      <td>0.0</td>\n",
       "      <td>6.99</td>\n",
       "      <td>27.24</td>\n",
       "      <td>36.59</td>\n",
       "      <td>64.37</td>\n",
       "      <td>100.00</td>\n",
       "      <td>33.02</td>\n",
       "      <td>256646</td>\n",
       "      <td>84166</td>\n",
       "      <td>32.79</td>\n",
       "    </tr>\n",
       "    <tr>\n",
       "      <th>All</th>\n",
       "      <td>0.0</td>\n",
       "      <td>10.56</td>\n",
       "      <td>36.25</td>\n",
       "      <td>41.67</td>\n",
       "      <td>70.62</td>\n",
       "      <td>100.00</td>\n",
       "      <td>33.18</td>\n",
       "      <td>281487</td>\n",
       "      <td>98488</td>\n",
       "      <td>34.99</td>\n",
       "    </tr>\n",
       "  </tbody>\n",
       "</table>\n",
       "</div>"
      ],
      "text/plain": [
       "                Min  1st Qu.  Median   Mean  3rd Qu.     Max     SD  \\\n",
       "Short history   NaN      NaN     NaN    NaN      NaN     NaN    NaN   \n",
       "Medium history  0.0    40.36   55.42  59.17    82.94   99.38  28.03   \n",
       "Long history    0.0     6.99   27.24  36.59    64.37  100.00  33.02   \n",
       "All             0.0    10.56   36.25  41.67    70.62  100.00  33.18   \n",
       "\n",
       "                with build conf.  Build success  Fraction built  \n",
       "Short history                  0              0             NaN  \n",
       "Medium history             24841          14322           57.65  \n",
       "Long history              256646          84166           32.79  \n",
       "All                       281487          98488           34.99  "
      ]
     },
     "execution_count": 66,
     "metadata": {},
     "output_type": "execute_result"
    }
   ],
   "source": [
    "df_replication = pd.read_csv('/home/notebooks/ProjectAnalysis/ApacheProyectsAnalysis/ApacheStatusCheckerResults.csv')\n",
    "q1 = df_replication['TotalCommits'].quantile(0.25)\n",
    "q3 = df_replication['TotalCommits'].quantile(0.75)\n",
    "createSummary(df, q1, q3)"
   ]
  },
  {
   "cell_type": "markdown",
   "metadata": {},
   "source": [
    "## Check number of builds of each Build System"
   ]
  },
  {
   "cell_type": "code",
   "execution_count": 46,
   "metadata": {},
   "outputs": [],
   "source": [
    "projects = [f for f in listdir(\"/home/results/GitHub/\")]\n",
    "build_systems = []\n",
    "for project in projects:\n",
    "    path = join(\"/home/results/GitHub/\", project)\n",
    "    build_path = join(path, \"experiment_1/build_files/\")\n",
    "    for build_file in listdir(build_path):\n",
    "        with open(join(build_path, build_file)) as f:\n",
    "            bs = json.load(f)\n",
    "            build_systems.append((bs['build_system']))"
   ]
  },
  {
   "cell_type": "code",
   "execution_count": 47,
   "metadata": {},
   "outputs": [
    {
     "data": {
      "text/plain": [
       "Counter({'Maven': 191657, 'Ant': 25735, 'NOT_FOUND': 19386, 'Gradle': 64095})"
      ]
     },
     "execution_count": 47,
     "metadata": {},
     "output_type": "execute_result"
    }
   ],
   "source": [
    "counter = Counter(build_systems)\n",
    "counter"
   ]
  },
  {
   "cell_type": "code",
   "execution_count": 48,
   "metadata": {},
   "outputs": [
    {
     "name": "stdout",
     "output_type": "stream",
     "text": [
      "Maven: 63.70%\n",
      "Gradle: 21.30%\n",
      "Ant: 8.55%\n"
     ]
    }
   ],
   "source": [
    "total_commits = df['TotalCommits'].sum()\n",
    "print(\"Maven: {:.2f}%\".format(counter['Maven']*100/total_commits))\n",
    "print(\"Gradle: {:.2f}%\".format(counter['Gradle']*100/total_commits))\n",
    "print(\"Ant: {:.2f}%\".format(counter['Ant']*100/total_commits))"
   ]
  }
 ],
 "metadata": {
  "kernelspec": {
   "display_name": "Python 3",
   "language": "python",
   "name": "python3"
  },
  "language_info": {
   "codemirror_mode": {
    "name": "ipython",
    "version": 3
   },
   "file_extension": ".py",
   "mimetype": "text/x-python",
   "name": "python",
   "nbconvert_exporter": "python",
   "pygments_lexer": "ipython3",
   "version": "3.9.5"
  }
 },
 "nbformat": 4,
 "nbformat_minor": 2
}
