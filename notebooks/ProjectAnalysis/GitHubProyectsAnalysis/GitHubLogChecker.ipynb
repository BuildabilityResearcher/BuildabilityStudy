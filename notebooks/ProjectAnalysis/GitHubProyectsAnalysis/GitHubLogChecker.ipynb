{
 "cells": [
  {
   "cell_type": "markdown",
   "metadata": {},
   "source": [
    "# Step 3.2: GitHub Log Checker"
   ]
  },
  {
   "cell_type": "code",
   "execution_count": 1,
   "metadata": {},
   "outputs": [],
   "source": [
    "import pandas as pd \n",
    "import os\n",
    "from LogAnalyzerGitHub import LogAnalyzerGitHub\n",
    "from threading import Thread, Event\n",
    "import time\n",
    "import json\n",
    "import concurrent.futures\n",
    "import csv\n",
    "import re\n",
    "from collections import Counter\n",
    "from os import listdir\n",
    "\n",
    "results_path=\"/home/results/GitHub_old/\""
   ]
  },
  {
   "cell_type": "code",
   "execution_count": 2,
   "metadata": {},
   "outputs": [],
   "source": [
    "def checkGitHubProject(project_name):\n",
    "    la = LogAnalyzerGitHub(project_name, root=results_path)\n",
    "    la.analyze()"
   ]
  },
  {
   "cell_type": "code",
   "execution_count": 4,
   "metadata": {},
   "outputs": [
    {
     "name": "stdout",
     "output_type": "stream",
     "text": [
      "> Project quickstart already analyzed\n",
      "> Project Jest already analyzed\n",
      "> Project Hystrix already analyzed\n",
      "> Project wiremock already analyzed\n",
      "> Project jacoco already analyzed\n",
      "> Project spring-security-oauth already analyzed\n",
      "> Project jsprit already analyzed\n",
      "> Project json-schema-validator already analyzed\n",
      "> Project junit4 already analyzed\n",
      "> Project kairosdb already analyzed\n",
      "> Project java-client already analyzed\n",
      "> Project java-driver already analyzed\n",
      "> Project elasticsearch-hadoop already analyzed\n",
      "> Project Twitter4J already analyzed\n",
      "> Project swagger-core already analyzed\n",
      "> Project powermock already analyzed\n",
      "> Project opengrok already analyzed\n",
      "> Project spring-data-jpa already analyzed\n",
      "> Project mina already analyzed\n",
      "> Project log4j already analyzed\n",
      "> Project thymeleaf already analyzed\n",
      "> Project jackson-databind already analyzed> Project assertj-core already analyzed\n",
      "\n",
      "> Project javaparser already analyzed\n",
      "> Project docker-java already analyzed\n",
      "> Project jgit already analyzed\n",
      "> Project pig already analyzed\n",
      "> Project fastjson already analyzed\n",
      "> Project zxing already analyzed\n",
      "> Project httpcomponents-client already analyzed\n",
      "> Project mockito already analyzed\n",
      "> Project incubator-pinot already analyzed\n",
      "> Project bookkeeper already analyzed\n",
      "> Project aws-sdk-java already analyzed\n",
      "> Project connectbot already analyzed\n",
      "> Project commons-lang already analyzed\n",
      "> Project nifi already analyzed\n"
     ]
    }
   ],
   "source": [
    "projects = [f for f in listdir(results_path)]\n",
    "future_results = []\n",
    "with concurrent.futures.ThreadPoolExecutor() as executor:\n",
    "    for project_name in projects:\n",
    "        executor.submit(checkGitHubProject, project_name)"
   ]
  }
 ],
 "metadata": {
  "kernelspec": {
   "display_name": "Python 3",
   "language": "python",
   "name": "python3"
  },
  "language_info": {
   "codemirror_mode": {
    "name": "ipython",
    "version": 3
   },
   "file_extension": ".py",
   "mimetype": "text/x-python",
   "name": "python",
   "nbconvert_exporter": "python",
   "pygments_lexer": "ipython3",
   "version": "3.7.3"
  }
 },
 "nbformat": 4,
 "nbformat_minor": 2
}
