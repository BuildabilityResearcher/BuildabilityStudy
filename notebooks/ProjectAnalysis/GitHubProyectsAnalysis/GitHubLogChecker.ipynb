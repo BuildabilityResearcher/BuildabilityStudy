{
 "cells": [
  {
   "cell_type": "markdown",
   "metadata": {},
   "source": [
    "# Step 3.2: GitHub Log Checker"
   ]
  },
  {
   "cell_type": "code",
   "execution_count": 1,
   "metadata": {},
   "outputs": [],
   "source": [
    "import pandas as pd \n",
    "import os\n",
    "from LogAnalyzerGitHub import LogAnalyzerGitHub\n",
    "from threading import Thread, Event\n",
    "import time\n",
    "import json\n",
    "import concurrent.futures\n",
    "import csv\n",
    "import re\n",
    "from collections import Counter\n",
    "from os import listdir\n",
    "\n",
    "results_path=\"/home/results/GitHub/\""
   ]
  },
  {
   "cell_type": "code",
   "execution_count": 2,
   "metadata": {},
   "outputs": [],
   "source": [
    "def checkGitHubProject(project_name):\n",
    "    la = LogAnalyzerGitHub(project_name, root=results_path)\n",
    "    la.analyze()"
   ]
  },
  {
   "cell_type": "code",
   "execution_count": null,
   "metadata": {},
   "outputs": [
    {
     "name": "stdout",
     "output_type": "stream",
     "text": [
      "> Project httpcomponents-client already analyzed\n",
      "> Project swagger-core already analyzed\n",
      "> Project connectbot already analyzed\n",
      "> Project spring-security-oauth already analyzed\n",
      "> Project jadx already analyzed\n",
      "> Project Bukkit already analyzed\n",
      "> Project pig already analyzed\n",
      "> Project spring-cloud-config already analyzed\n",
      "> Project log4j already analyzed\n",
      "> Project Apktool already analyzed\n",
      "> Project deeplearning4j already analyzed\n",
      "> Project heritrix3 already analyzed\n",
      "> Project docx4j already analyzed\n",
      "> Project kairosdb already analyzed\n",
      "> Project spring-data-jpa already analyzed\n",
      "> Project influxdb-java already analyzed> Project lwjgl3 already analyzed\n",
      "> Project quasar already analyzed\n",
      "\n",
      "> Project jacoco already analyzed> Project java-client already analyzed\n",
      "> Project webmagic already analyzed\n",
      "> Project scribejava already analyzed\n",
      "> Project quickstart already analyzed\n",
      "> Project initializr already analyzed\n",
      "> Project junit4 already analyzed\n",
      "\n",
      "> Project assertj-core already analyzed\n",
      "> Project error-prone already analyzed> Project eureka already analyzed\n",
      "> Project Twitter4J already analyzed\n",
      "\n",
      "> Project gatk already analyzed\n",
      "> Project commons-lang already analyzed\n",
      "> Project java-driver already analyzed> Project Hystrix already analyzed\n",
      "\n",
      "> Project smali already analyzed\n",
      "> Project simple-binary-encoding already analyzed\n",
      "> Project moco already analyzed\n",
      "> Project elasticsearch-hadoop already analyzed\n",
      "> Project Jest already analyzed\n",
      "> Project mina already analyzed\n",
      "> Project fastjson already analyzed\n",
      "> Project jsprit already analyzed\n",
      "> Project thymeleaf already analyzed\n",
      "> Project lettuce-core already analyzed> Project joda-time already analyzed\n",
      "> Project json-schema-validator already analyzed\n",
      "> Project powermock already analyzed\n",
      "\n"
     ]
    }
   ],
   "source": [
    "projects = [f for f in listdir(results_path)]\n",
    "future_results = []\n",
    "with concurrent.futures.ThreadPoolExecutor() as executor:\n",
    "    for project_name in projects:\n",
    "        executor.submit(checkGitHubProject, project_name)"
   ]
  }
 ],
 "metadata": {
  "kernelspec": {
   "display_name": "Python 3",
   "language": "python",
   "name": "python3"
  },
  "language_info": {
   "codemirror_mode": {
    "name": "ipython",
    "version": 3
   },
   "file_extension": ".py",
   "mimetype": "text/x-python",
   "name": "python",
   "nbconvert_exporter": "python",
   "pygments_lexer": "ipython3",
   "version": "3.9.5"
  }
 },
 "nbformat": 4,
 "nbformat_minor": 2
}
