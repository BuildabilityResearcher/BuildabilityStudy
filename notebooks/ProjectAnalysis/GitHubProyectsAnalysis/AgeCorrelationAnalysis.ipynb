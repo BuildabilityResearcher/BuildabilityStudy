{
 "cells": [
  {
   "cell_type": "markdown",
   "metadata": {},
   "source": [
    "# Age correlation analysis"
   ]
  },
  {
   "cell_type": "code",
   "execution_count": 182,
   "metadata": {},
   "outputs": [],
   "source": [
    "import sys\n",
    "# To import python scripts from other folders\n",
    "sys.path.append('../')\n",
    "import json\n",
    "from ProjectAnalysis import ProjectAnalysis\n",
    "import os\n",
    "from os import listdir\n",
    "from os.path import isfile, join\n",
    "from collections import Counter\n",
    "import pandas as pd\n",
    "import re\n",
    "from datetime import datetime\n",
    "import matplotlib.pyplot as plt \n",
    "import time\n",
    "from datetime import datetime, timezone\n",
    "from dateutil.parser import parse"
   ]
  },
  {
   "cell_type": "code",
   "execution_count": 192,
   "metadata": {
    "scrolled": false
   },
   "outputs": [],
   "source": [
    "experiment=\"GitHub\"\n",
    "def get_projects_resume():\n",
    "    isFailList = []\n",
    "    days = []\n",
    "    buildSystems = []\n",
    "    for project_name in [p for p in os.listdir(results_path) if os.path.isdir(results_path+p)]:\n",
    "        report = pd.read_csv(\"/home/results/{exp}/{project}/experiment_1/report_experiment_1.csv\".format(\n",
    "            exp=experiment,root=root, project=project_name))\n",
    "        results = pd.read_csv(\"/home/notebooks/ProjectAnalysis/GitHubProyectsAnalysis/results/%s.csv\"%project_name)\n",
    "        delta_days = []\n",
    "        projectBuildSystemsPerCommit = []\n",
    "        \n",
    "        for index, row in report.iterrows():\n",
    "            now = datetime(2021, 10, 1, tzinfo=timezone.utc)\n",
    "            original = parse(row['date']).replace(tzinfo=timezone.utc)\n",
    "            delta = now-original\n",
    "            delta_days.append(delta.days)\n",
    "            \n",
    "        isFailList = isFailList + list(map(lambda x: 1 if x == 'FAIL' else 0, report['build'].tolist()))\n",
    "        days = days + delta_days\n",
    "        buildSystems = buildSystems + list(results[\"BUILD_SYSTEM\"])\n",
    "    data = {\n",
    "        'isFail': isFailList,\n",
    "        'n_days': days,\n",
    "        'buildSystem': buildSystems\n",
    "    }\n",
    "    df = pd.DataFrame(data)\n",
    "    return df"
   ]
  },
  {
   "cell_type": "code",
   "execution_count": 193,
   "metadata": {
    "scrolled": false
   },
   "outputs": [],
   "source": [
    "df = get_projects_resume()"
   ]
  },
  {
   "cell_type": "markdown",
   "metadata": {},
   "source": [
    "### Check basic corr"
   ]
  },
  {
   "cell_type": "code",
   "execution_count": 194,
   "metadata": {},
   "outputs": [
    {
     "data": {
      "text/html": [
       "<div>\n",
       "<style scoped>\n",
       "    .dataframe tbody tr th:only-of-type {\n",
       "        vertical-align: middle;\n",
       "    }\n",
       "\n",
       "    .dataframe tbody tr th {\n",
       "        vertical-align: top;\n",
       "    }\n",
       "\n",
       "    .dataframe thead th {\n",
       "        text-align: right;\n",
       "    }\n",
       "</style>\n",
       "<table border=\"1\" class=\"dataframe\">\n",
       "  <thead>\n",
       "    <tr style=\"text-align: right;\">\n",
       "      <th></th>\n",
       "      <th>isFail</th>\n",
       "      <th>n_days</th>\n",
       "    </tr>\n",
       "  </thead>\n",
       "  <tbody>\n",
       "    <tr>\n",
       "      <th>isFail</th>\n",
       "      <td>1.000000</td>\n",
       "      <td>0.114251</td>\n",
       "    </tr>\n",
       "    <tr>\n",
       "      <th>n_days</th>\n",
       "      <td>0.114251</td>\n",
       "      <td>1.000000</td>\n",
       "    </tr>\n",
       "  </tbody>\n",
       "</table>\n",
       "</div>"
      ],
      "text/plain": [
       "          isFail    n_days\n",
       "isFail  1.000000  0.114251\n",
       "n_days  0.114251  1.000000"
      ]
     },
     "execution_count": 194,
     "metadata": {},
     "output_type": "execute_result"
    }
   ],
   "source": [
    "df.corr(method ='pearson')"
   ]
  },
  {
   "cell_type": "code",
   "execution_count": 195,
   "metadata": {},
   "outputs": [
    {
     "data": {
      "text/html": [
       "<div>\n",
       "<style scoped>\n",
       "    .dataframe tbody tr th:only-of-type {\n",
       "        vertical-align: middle;\n",
       "    }\n",
       "\n",
       "    .dataframe tbody tr th {\n",
       "        vertical-align: top;\n",
       "    }\n",
       "\n",
       "    .dataframe thead th {\n",
       "        text-align: right;\n",
       "    }\n",
       "</style>\n",
       "<table border=\"1\" class=\"dataframe\">\n",
       "  <thead>\n",
       "    <tr style=\"text-align: right;\">\n",
       "      <th></th>\n",
       "      <th>isFail</th>\n",
       "      <th>n_days</th>\n",
       "    </tr>\n",
       "  </thead>\n",
       "  <tbody>\n",
       "    <tr>\n",
       "      <th>isFail</th>\n",
       "      <td>1.000000</td>\n",
       "      <td>-0.178282</td>\n",
       "    </tr>\n",
       "    <tr>\n",
       "      <th>n_days</th>\n",
       "      <td>-0.178282</td>\n",
       "      <td>1.000000</td>\n",
       "    </tr>\n",
       "  </tbody>\n",
       "</table>\n",
       "</div>"
      ],
      "text/plain": [
       "          isFail    n_days\n",
       "isFail  1.000000 -0.178282\n",
       "n_days -0.178282  1.000000"
      ]
     },
     "execution_count": 195,
     "metadata": {},
     "output_type": "execute_result"
    }
   ],
   "source": [
    "df[df['buildSystem']=='Ant'].corr(method ='pearson')"
   ]
  },
  {
   "cell_type": "code",
   "execution_count": 196,
   "metadata": {},
   "outputs": [
    {
     "data": {
      "text/html": [
       "<div>\n",
       "<style scoped>\n",
       "    .dataframe tbody tr th:only-of-type {\n",
       "        vertical-align: middle;\n",
       "    }\n",
       "\n",
       "    .dataframe tbody tr th {\n",
       "        vertical-align: top;\n",
       "    }\n",
       "\n",
       "    .dataframe thead th {\n",
       "        text-align: right;\n",
       "    }\n",
       "</style>\n",
       "<table border=\"1\" class=\"dataframe\">\n",
       "  <thead>\n",
       "    <tr style=\"text-align: right;\">\n",
       "      <th></th>\n",
       "      <th>isFail</th>\n",
       "      <th>n_days</th>\n",
       "    </tr>\n",
       "  </thead>\n",
       "  <tbody>\n",
       "    <tr>\n",
       "      <th>isFail</th>\n",
       "      <td>1.000000</td>\n",
       "      <td>0.072028</td>\n",
       "    </tr>\n",
       "    <tr>\n",
       "      <th>n_days</th>\n",
       "      <td>0.072028</td>\n",
       "      <td>1.000000</td>\n",
       "    </tr>\n",
       "  </tbody>\n",
       "</table>\n",
       "</div>"
      ],
      "text/plain": [
       "          isFail    n_days\n",
       "isFail  1.000000  0.072028\n",
       "n_days  0.072028  1.000000"
      ]
     },
     "execution_count": 196,
     "metadata": {},
     "output_type": "execute_result"
    }
   ],
   "source": [
    "df[df['buildSystem']=='Maven'].corr(method ='pearson')"
   ]
  },
  {
   "cell_type": "code",
   "execution_count": 197,
   "metadata": {},
   "outputs": [
    {
     "data": {
      "text/html": [
       "<div>\n",
       "<style scoped>\n",
       "    .dataframe tbody tr th:only-of-type {\n",
       "        vertical-align: middle;\n",
       "    }\n",
       "\n",
       "    .dataframe tbody tr th {\n",
       "        vertical-align: top;\n",
       "    }\n",
       "\n",
       "    .dataframe thead th {\n",
       "        text-align: right;\n",
       "    }\n",
       "</style>\n",
       "<table border=\"1\" class=\"dataframe\">\n",
       "  <thead>\n",
       "    <tr style=\"text-align: right;\">\n",
       "      <th></th>\n",
       "      <th>isFail</th>\n",
       "      <th>n_days</th>\n",
       "    </tr>\n",
       "  </thead>\n",
       "  <tbody>\n",
       "    <tr>\n",
       "      <th>isFail</th>\n",
       "      <td>1.000000</td>\n",
       "      <td>0.172172</td>\n",
       "    </tr>\n",
       "    <tr>\n",
       "      <th>n_days</th>\n",
       "      <td>0.172172</td>\n",
       "      <td>1.000000</td>\n",
       "    </tr>\n",
       "  </tbody>\n",
       "</table>\n",
       "</div>"
      ],
      "text/plain": [
       "          isFail    n_days\n",
       "isFail  1.000000  0.172172\n",
       "n_days  0.172172  1.000000"
      ]
     },
     "execution_count": 197,
     "metadata": {},
     "output_type": "execute_result"
    }
   ],
   "source": [
    "df[df['buildSystem']=='Gradle'].corr(method ='pearson')"
   ]
  },
  {
   "cell_type": "code",
   "execution_count": 201,
   "metadata": {},
   "outputs": [
    {
     "data": {
      "image/png": "[encoded data removed]",
      "text/plain": [
       "<Figure size 432x288 with 1 Axes>"
      ]
     },
     "metadata": {
      "needs_background": "light"
     },
     "output_type": "display_data"
    }
   ],
   "source": [
    "df_years = df.copy()\n",
    "df_years['years'] = df_years['n_days'].apply(lambda x: x/365)\n",
    "df_years[df_years['buildSystem']!='NOT_FOUND'].boxplot(column=['years'], by='buildSystem')\n",
    "plt.title('')\n",
    "plt.suptitle('')\n",
    "plt.ylabel('Years')\n",
    "plt.xlabel('Build System')\n",
    "plt.savefig('AgePerBuildSystem.pdf')\n",
    "plt.show()\n"
   ]
  },
  {
   "cell_type": "code",
   "execution_count": 200,
   "metadata": {},
   "outputs": [
    {
     "data": {
      "text/html": [
       "<div>\n",
       "<style scoped>\n",
       "    .dataframe tbody tr th:only-of-type {\n",
       "        vertical-align: middle;\n",
       "    }\n",
       "\n",
       "    .dataframe tbody tr th {\n",
       "        vertical-align: top;\n",
       "    }\n",
       "\n",
       "    .dataframe thead th {\n",
       "        text-align: right;\n",
       "    }\n",
       "</style>\n",
       "<table border=\"1\" class=\"dataframe\">\n",
       "  <thead>\n",
       "    <tr style=\"text-align: right;\">\n",
       "      <th></th>\n",
       "      <th>isFail</th>\n",
       "      <th>n_days</th>\n",
       "      <th>buildSystem</th>\n",
       "      <th>years</th>\n",
       "    </tr>\n",
       "  </thead>\n",
       "  <tbody>\n",
       "    <tr>\n",
       "      <th>9049</th>\n",
       "      <td>1</td>\n",
       "      <td>9038</td>\n",
       "      <td>NOT_FOUND</td>\n",
       "      <td>24.761644</td>\n",
       "    </tr>\n",
       "    <tr>\n",
       "      <th>9050</th>\n",
       "      <td>1</td>\n",
       "      <td>8388</td>\n",
       "      <td>NOT_FOUND</td>\n",
       "      <td>22.980822</td>\n",
       "    </tr>\n",
       "    <tr>\n",
       "      <th>9051</th>\n",
       "      <td>1</td>\n",
       "      <td>8381</td>\n",
       "      <td>NOT_FOUND</td>\n",
       "      <td>22.961644</td>\n",
       "    </tr>\n",
       "    <tr>\n",
       "      <th>9052</th>\n",
       "      <td>1</td>\n",
       "      <td>8380</td>\n",
       "      <td>NOT_FOUND</td>\n",
       "      <td>22.958904</td>\n",
       "    </tr>\n",
       "    <tr>\n",
       "      <th>9053</th>\n",
       "      <td>1</td>\n",
       "      <td>8377</td>\n",
       "      <td>NOT_FOUND</td>\n",
       "      <td>22.950685</td>\n",
       "    </tr>\n",
       "    <tr>\n",
       "      <th>...</th>\n",
       "      <td>...</td>\n",
       "      <td>...</td>\n",
       "      <td>...</td>\n",
       "      <td>...</td>\n",
       "    </tr>\n",
       "    <tr>\n",
       "      <th>218977</th>\n",
       "      <td>1</td>\n",
       "      <td>1</td>\n",
       "      <td>Gradle</td>\n",
       "      <td>0.002740</td>\n",
       "    </tr>\n",
       "    <tr>\n",
       "      <th>60311</th>\n",
       "      <td>1</td>\n",
       "      <td>0</td>\n",
       "      <td>Maven</td>\n",
       "      <td>0.000000</td>\n",
       "    </tr>\n",
       "    <tr>\n",
       "      <th>100443</th>\n",
       "      <td>1</td>\n",
       "      <td>0</td>\n",
       "      <td>Maven</td>\n",
       "      <td>0.000000</td>\n",
       "    </tr>\n",
       "    <tr>\n",
       "      <th>96957</th>\n",
       "      <td>0</td>\n",
       "      <td>0</td>\n",
       "      <td>Maven</td>\n",
       "      <td>0.000000</td>\n",
       "    </tr>\n",
       "    <tr>\n",
       "      <th>78242</th>\n",
       "      <td>0</td>\n",
       "      <td>0</td>\n",
       "      <td>Maven</td>\n",
       "      <td>0.000000</td>\n",
       "    </tr>\n",
       "  </tbody>\n",
       "</table>\n",
       "<p>300279 rows × 4 columns</p>\n",
       "</div>"
      ],
      "text/plain": [
       "        isFail  n_days buildSystem      years\n",
       "9049         1    9038   NOT_FOUND  24.761644\n",
       "9050         1    8388   NOT_FOUND  22.980822\n",
       "9051         1    8381   NOT_FOUND  22.961644\n",
       "9052         1    8380   NOT_FOUND  22.958904\n",
       "9053         1    8377   NOT_FOUND  22.950685\n",
       "...        ...     ...         ...        ...\n",
       "218977       1       1      Gradle   0.002740\n",
       "60311        1       0       Maven   0.000000\n",
       "100443       1       0       Maven   0.000000\n",
       "96957        0       0       Maven   0.000000\n",
       "78242        0       0       Maven   0.000000\n",
       "\n",
       "[300279 rows x 4 columns]"
      ]
     },
     "execution_count": 200,
     "metadata": {},
     "output_type": "execute_result"
    }
   ],
   "source": [
    "df_years.sort_values('n_days', ascending=False)"
   ]
  }
 ],
 "metadata": {
  "kernelspec": {
   "display_name": "Python 3",
   "language": "python",
   "name": "python3"
  },
  "language_info": {
   "codemirror_mode": {
    "name": "ipython",
    "version": 3
   },
   "file_extension": ".py",
   "mimetype": "text/x-python",
   "name": "python",
   "nbconvert_exporter": "python",
   "pygments_lexer": "ipython3",
   "version": "3.9.5"
  }
 },
 "nbformat": 4,
 "nbformat_minor": 2
}
