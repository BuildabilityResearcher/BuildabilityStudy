{
 "cells": [
  {
   "cell_type": "markdown",
   "metadata": {},
   "source": [
    "# Step 1: Project Mining - GitHub"
   ]
  },
  {
   "cell_type": "code",
   "execution_count": 1,
   "metadata": {},
   "outputs": [],
   "source": [
    "import os\n",
    "import datetime\n",
    "import random\n",
    "import json\n",
    "try: \n",
    "    from github import Github\n",
    "    import pickle\n",
    "except ImportError:\n",
    "    print(\"Lib github not local available\")\n",
    "    import pip\n",
    "    cmd = \"pip install PyGithub\"\n",
    "    os.system(cmd)\n",
    "    cmd = \"pip install pickle\"\n",
    "    os.system(cmd)\n",
    "    import pickle\n",
    "CONFIG_FILES_PATH = \"/home/configFiles/GitHubProjects/\""
   ]
  },
  {
   "cell_type": "code",
   "execution_count": 2,
   "metadata": {},
   "outputs": [],
   "source": [
    "from github import Github\n",
    "\n",
    "g = Github(\"maes95\",\"xxxx\")"
   ]
  },
  {
   "cell_type": "code",
   "execution_count": null,
   "metadata": {},
   "outputs": [],
   "source": [
    "query=\"\"\"\n",
    "    language:java \n",
    "    stars:>=500 \n",
    "    forks:>=300 \n",
    "    created:<2015-01-01 \n",
    "    pushed:>2020-01-01\n",
    "    archived:false\n",
    "    is:public\n",
    "\"\"\"\n",
    "repositories=[]\n",
    "\n",
    "repositories = g.search_repositories(query=query)"
   ]
  },
  {
   "cell_type": "code",
   "execution_count": null,
   "metadata": {},
   "outputs": [],
   "source": [
    "repos= []\n",
    "count=0\n",
    "\n",
    "for repo in repositories:\n",
    "    repos.append(repo)\n",
    "    count=count+1"
   ]
  },
  {
   "cell_type": "code",
   "execution_count": null,
   "metadata": {},
   "outputs": [],
   "source": [
    "date=str(datetime.datetime.now())\n",
    "\n",
    "with open('repos_%s.pickle'%date, 'wb') as f:\n",
    "    pickle.dump(repos, f)\n",
    "\n",
    "print(\"Total repos: %d\"%len(repos))"
   ]
  },
  {
   "cell_type": "code",
   "execution_count": 3,
   "metadata": {
    "scrolled": false
   },
   "outputs": [],
   "source": [
    "file_name = \"2020-03-03 16:33:38.327680\"\n",
    "if 'date' in locals(): file_name = date\n",
    "\n",
    "# 'repos_%s.pickle'%date\n",
    "with open('repos_%s.pickle'%file_name, 'rb') as f:\n",
    "    repos = pickle.load(f)"
   ]
  },
  {
   "cell_type": "code",
   "execution_count": 4,
   "metadata": {},
   "outputs": [
    {
     "name": "stdout",
     "output_type": "stream",
     "text": [
      "Project psaravan/JamsMusicPlayer not longer available\n",
      "Project eclipse/jgit not longer available\n",
      "Project eclipse/egit-github not longer available\n",
      "Total repos: 590\n"
     ]
    }
   ],
   "source": [
    "filtered_repos = []\n",
    "for r in repos:\n",
    "    \n",
    "    try:\n",
    "        repo = g.get_repo(r.full_name)\n",
    "        contents = repo.get_contents(\"\")\n",
    "        for content_file in contents:\n",
    "            if content_file.path in [\"build.gradle\", \"pom.xml\", \"build.xml\"]:\n",
    "                filtered_repos.append(repo)\n",
    "                break\n",
    "    except:\n",
    "        print(\"Project %s not longer available\"%r.full_name)\n",
    "        continue\n",
    "            \n",
    "print(\"Total repos: %d\"%len(filtered_repos))"
   ]
  },
  {
   "cell_type": "code",
   "execution_count": 5,
   "metadata": {},
   "outputs": [
    {
     "name": "stdout",
     "output_type": "stream",
     "text": [
      "Total projects 302\n"
     ]
    }
   ],
   "source": [
    "MAX_COMMITS = 10000\n",
    "MIN_COMMITS = 1000\n",
    "filtered_repos_2 = []\n",
    "for repo in filtered_repos:\n",
    "    commits = repo.get_commits().totalCount\n",
    "    if commits >= MIN_COMMITS and commits <= MAX_COMMITS:\n",
    "        filtered_repos_2.append(repo)\n",
    "print(\"Total projects %d\"%len(filtered_repos_2))"
   ]
  },
  {
   "cell_type": "code",
   "execution_count": null,
   "metadata": {},
   "outputs": [],
   "source": [
    "#filtered_repos_3 = [r for r in filtered_repos_2 if r.full_name.split(\"/\")[0] != \"apache\"]\n",
    "#print(\"Total projects %d\"%len(filtered_repos_3))"
   ]
  },
  {
   "cell_type": "code",
   "execution_count": 6,
   "metadata": {},
   "outputs": [
    {
     "name": "stdout",
     "output_type": "stream",
     "text": [
      "Total projects 255\n"
     ]
    }
   ],
   "source": [
    "filtered_repos_3 = []\n",
    "for repo in filtered_repos_2:\n",
    "    contents = repo.get_contents(\"\")\n",
    "    isAndroid = False\n",
    "    for file in contents:\n",
    "        if file.path == \"build.gradle\":\n",
    "            isAndroid = 'com.android.tools.build' in str(repo.get_contents(\"build.gradle\").decoded_content)\n",
    "            break\n",
    "    if not isAndroid: filtered_repos_3.append(repo)\n",
    "print(\"Total projects %d\"%len(filtered_repos_3))"
   ]
  },
  {
   "cell_type": "code",
   "execution_count": 7,
   "metadata": {},
   "outputs": [],
   "source": [
    "# Select 80 random projects\n",
    "sampling = random.choices(filtered_repos_3, k=80)"
   ]
  },
  {
   "cell_type": "code",
   "execution_count": 8,
   "metadata": {},
   "outputs": [
    {
     "data": {
      "text/plain": [
       "[Repository(full_name=\"undertow-io/undertow\"),\n",
       " Repository(full_name=\"appium/java-client\"),\n",
       " Repository(full_name=\"mock-server/mockserver\"),\n",
       " Repository(full_name=\"mock-server/mockserver\"),\n",
       " Repository(full_name=\"jindrapetrik/jpexs-decompiler\"),\n",
       " Repository(full_name=\"plutext/docx4j\"),\n",
       " Repository(full_name=\"flyway/flyway\"),\n",
       " Repository(full_name=\"kiegroup/optaplanner\"),\n",
       " Repository(full_name=\"apache/drill\"),\n",
       " Repository(full_name=\"naver/ngrinder\"),\n",
       " Repository(full_name=\"spring-projects/spring-data-neo4j\"),\n",
       " Repository(full_name=\"assertj/assertj-core\"),\n",
       " Repository(full_name=\"FasterXML/jackson-databind\"),\n",
       " Repository(full_name=\"robovm/robovm\"),\n",
       " Repository(full_name=\"JSQLParser/JSqlParser\"),\n",
       " Repository(full_name=\"mcMMO-Dev/mcMMO\"),\n",
       " Repository(full_name=\"JodaOrg/joda-time\"),\n",
       " Repository(full_name=\"datastax/java-driver\"),\n",
       " Repository(full_name=\"java-native-access/jna\"),\n",
       " Repository(full_name=\"spring-projects/spring-data-jpa\"),\n",
       " Repository(full_name=\"jacoco/jacoco\"),\n",
       " Repository(full_name=\"dropwizard/metrics\"),\n",
       " Repository(full_name=\"eclipse/deeplearning4j\"),\n",
       " Repository(full_name=\"google/error-prone\"),\n",
       " Repository(full_name=\"jmxtrans/jmxtrans\"),\n",
       " Repository(full_name=\"Netflix/eureka\"),\n",
       " Repository(full_name=\"flyingsaucerproject/flyingsaucer\"),\n",
       " Repository(full_name=\"cryptomator/cryptomator\"),\n",
       " Repository(full_name=\"spring-projects/spring-security-oauth\"),\n",
       " Repository(full_name=\"soot-oss/soot\"),\n",
       " Repository(full_name=\"find-sec-bugs/find-sec-bugs\"),\n",
       " Repository(full_name=\"alibaba/canal\"),\n",
       " Repository(full_name=\"jchambers/pushy\"),\n",
       " Repository(full_name=\"openzipkin/zipkin\"),\n",
       " Repository(full_name=\"apache/kafka\"),\n",
       " Repository(full_name=\"Twitter4J/Twitter4J\"),\n",
       " Repository(full_name=\"apache/shiro\"),\n",
       " Repository(full_name=\"apache/mina\"),\n",
       " Repository(full_name=\"openhab/openhab1-addons\"),\n",
       " Repository(full_name=\"undertow-io/undertow\"),\n",
       " Repository(full_name=\"codecentric/spring-boot-admin\"),\n",
       " Repository(full_name=\"ethereum/ethereumj\"),\n",
       " Repository(full_name=\"bitcoinj/bitcoinj\"),\n",
       " Repository(full_name=\"apache/oozie\"),\n",
       " Repository(full_name=\"powermock/powermock\"),\n",
       " Repository(full_name=\"jankotek/mapdb\"),\n",
       " Repository(full_name=\"spring-projects/spring-security\"),\n",
       " Repository(full_name=\"elastic/elasticsearch-hadoop\"),\n",
       " Repository(full_name=\"AsyncHttpClient/async-http-client\"),\n",
       " Repository(full_name=\"openhab/openhab1-addons\"),\n",
       " Repository(full_name=\"moquette-io/moquette\"),\n",
       " Repository(full_name=\"jenkinsci/gitlab-plugin\"),\n",
       " Repository(full_name=\"qos-ch/logback\"),\n",
       " Repository(full_name=\"ehcache/ehcache3\"),\n",
       " Repository(full_name=\"AxonFramework/AxonFramework\"),\n",
       " Repository(full_name=\"apache/gobblin\"),\n",
       " Repository(full_name=\"kiegroup/optaplanner\"),\n",
       " Repository(full_name=\"rest-assured/rest-assured\"),\n",
       " Repository(full_name=\"clojure/clojure\"),\n",
       " Repository(full_name=\"hibernate/hibernate-validator\"),\n",
       " Repository(full_name=\"code4craft/webmagic\"),\n",
       " Repository(full_name=\"puniverse/quasar\"),\n",
       " Repository(full_name=\"SlimeKnights/TinkersConstruct\"),\n",
       " Repository(full_name=\"brianfrankcooper/YCSB\"),\n",
       " Repository(full_name=\"LMAX-Exchange/disruptor\"),\n",
       " Repository(full_name=\"googleapis/google-api-java-client\"),\n",
       " Repository(full_name=\"eclipse/deeplearning4j\"),\n",
       " Repository(full_name=\"cloudfoundry/uaa\"),\n",
       " Repository(full_name=\"deeplearning4j/nd4j\"),\n",
       " Repository(full_name=\"linkedin/rest.li\"),\n",
       " Repository(full_name=\"apache/oozie\"),\n",
       " Repository(full_name=\"puniverse/quasar\"),\n",
       " Repository(full_name=\"spockframework/spock\"),\n",
       " Repository(full_name=\"perwendel/spark\"),\n",
       " Repository(full_name=\"realm/realm-java\"),\n",
       " Repository(full_name=\"mybatis/spring\"),\n",
       " Repository(full_name=\"joelittlejohn/jsonschema2pojo\"),\n",
       " Repository(full_name=\"confluentinc/kafka-rest\"),\n",
       " Repository(full_name=\"aws/aws-sdk-java\"),\n",
       " Repository(full_name=\"pentaho/mondrian\")]"
      ]
     },
     "execution_count": 8,
     "metadata": {},
     "output_type": "execute_result"
    }
   ],
   "source": [
    "sampling"
   ]
  },
  {
   "cell_type": "code",
   "execution_count": null,
   "metadata": {},
   "outputs": [],
   "source": [
    "count = 0\n",
    "\n",
    "for project in sampling:\n",
    "    project_name = project.full_name.split(\"/\")[1]\n",
    "    \n",
    "    \n",
    "    if not os.path.isfile('%s/%s-config.json'%(CONFIG_FILES_PATH, project_name)):\n",
    "        count+=1\n",
    "        print(project.full_name)\n",
    "        config={\n",
    "            'project': project_name,\n",
    "            'git_url': project.clone_url,\n",
    "            'last_commit': project.get_commits()[0].sha[0:8],\n",
    "            'experiment': 1\n",
    "        }\n",
    "\n",
    "    with open('%s/%s-config.json'%(CONFIG_FILES_PATH, project_name), 'w') as outfile:\n",
    "        json.dump(config, outfile, indent=4)\n",
    "        \n",
    "    if count == 40: break\n",
    "\n",
    "    "
   ]
  },
  {
   "cell_type": "code",
   "execution_count": null,
   "metadata": {},
   "outputs": [],
   "source": [
    "for f in os.listdir(CONFIG_FILES_PATH):\n",
    "    path = os.path.join(CONFIG_FILES_PATH, f)\n",
    "    if os.path.isfile(path):\n",
    "        with open(path, 'r') as f:\n",
    "            config_file = json.load(f)\n",
    "            \n",
    "            project_name = config_file['project']\n",
    "            folder  = \"/home/projects/%s\" % project_name\n",
    "            git_url = config_file['git_url']\n",
    "\n",
    "            # CHECK IF PROJECT EXISTS\n",
    "            if os.path.exists(folder):\n",
    "                print(\" -> Project exist in local folder!\")\n",
    "            else:\n",
    "                print(\" -> Project %s cloned!\"%project_name)\n",
    "                !git clone $git_url $folder > /dev/null 2>&1\n",
    "            "
   ]
  },
  {
   "cell_type": "code",
   "execution_count": null,
   "metadata": {},
   "outputs": [],
   "source": []
  }
 ],
 "metadata": {
  "kernelspec": {
   "display_name": "Python 3",
   "language": "python",
   "name": "python3"
  },
  "language_info": {
   "codemirror_mode": {
    "name": "ipython",
    "version": 3
   },
   "file_extension": ".py",
   "mimetype": "text/x-python",
   "name": "python",
   "nbconvert_exporter": "python",
   "pygments_lexer": "ipython3",
   "version": "3.9.5"
  }
 },
 "nbformat": 4,
 "nbformat_minor": 2
}
